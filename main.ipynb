{
 "cells": [
  {
   "cell_type": "code",
   "execution_count": 6,
   "metadata": {},
   "outputs": [],
   "source": [
    "import os\n",
    "import sys\n",
    "import random\n",
    "import math\n",
    "import numpy as np\n",
    "import skimage.io\n",
    "import matplotlib\n",
    "import matplotlib.pyplot as plt\n",
    "import cv2"
   ]
  },
  {
   "cell_type": "code",
   "execution_count": 1,
   "metadata": {},
   "outputs": [],
   "source": [
    "IMAGE_DIR=\"/Users/gosato/Desktop/GenDataForDFV/train_data_example/20200221/yes/image_03/data\"\n",
    "OUTPUT_DIR=\"/Users/gosato/Desktop/result\"\n"
   ]
  },
  {
   "cell_type": "code",
   "execution_count": 4,
   "metadata": {},
   "outputs": [],
   "source": [
    "file_names=[f.name for f in os.scandir(IMAGE_DIR) if not f.name.startswith('.')]"
   ]
  },
  {
   "cell_type": "code",
   "execution_count": 5,
   "metadata": {},
   "outputs": [
    {
     "data": {
      "text/plain": [
       "['20191020084855686_134.564347_34.076700.jpg.jpg',\n",
       " '20191020084927742_134.562476_34.076609.jpg.jpg',\n",
       " '20191020084850100_134.564468_34.076480.jpg.jpg',\n",
       " '20191020084917499_134.563288_34.076821.jpg.jpg',\n",
       " '20191020084811827_134.561341_34.076097.jpg.jpg',\n",
       " '20191020084800153_134.560227_34.076144.jpg.jpg',\n",
       " '20191020084817414_134.561994_34.076213.jpg.jpg',\n",
       " '20191020084834206_134.563634_34.076263.jpg.jpg',\n",
       " '20191020084823008_134.562530_34.076277.jpg.jpg',\n",
       " '20191020084818346_134.562104_34.076233.jpg.jpg',\n",
       " '20191020084929603_134.562420_34.076515.jpg.jpg',\n",
       " '20191020085012997_134.560453_34.075999.jpg.jpg',\n",
       " '20191020084823966_134.562630_34.076271.jpg.jpg',\n",
       " '20191020084831413_134.563435_34.076255.jpg.jpg',\n",
       " '20191020084906330_134.564149_34.076999.jpg.jpg',\n",
       " '20191020085010205_134.560789_34.075969.jpg.jpg',\n",
       " '20191020084915637_134.563468_34.076862.jpg.jpg',\n",
       " '20191020084833281_134.563534_34.076254.jpg.jpg',\n",
       " '20191020084954376_134.562291_34.076262.jpg.jpg',\n",
       " '20191020084835138_134.563723_34.076278.jpg.jpg',\n",
       " '20191020084930539_134.562398_34.076458.jpg.jpg',\n",
       " '20191020085011141_134.560672_34.075970.jpg.jpg',\n",
       " '20191020084840725_134.564262_34.076402.jpg.jpg',\n",
       " '20191020085008341_134.560907_34.075985.jpg.jpg',\n",
       " '20191020085004623_134.561388_34.076063.jpg.jpg',\n",
       " '20191020084826759_134.562934_34.076267.jpg.jpg',\n",
       " '20191020084913775_134.563655_34.076905.jpg.jpg',\n",
       " '20191020084910981_134.563914_34.076971.jpg.jpg',\n",
       " '20191020085019514_134.559880_34.076219.jpg.jpg',\n",
       " '20191020084841652_134.564317_34.076416.jpg.jpg',\n",
       " '20191020084838859_134.564106_34.076368.jpg.jpg',\n",
       " '20191020084933328_134.562339_34.076331.jpg.jpg',\n",
       " '20191020084923087_134.562823_34.076726.jpg.jpg',\n",
       " '20191020084759225_134.560095_34.076198.jpg.jpg',\n",
       " '20191020084828617_134.563136_34.076260.jpg.jpg',\n",
       " '20191020084816482_134.561887_34.076191.jpg.jpg',\n",
       " '20191020084900341_134.564215_34.076949.jpg.jpg',\n",
       " '20191020084958101_134.562112_34.076207.jpg.jpg',\n",
       " '20191020085006478_134.561147_34.076020.jpg.jpg',\n",
       " '20191020085013931_134.560353_34.076028.jpg.jpg',\n",
       " '20191020084852895_134.564440_34.076558.jpg.jpg',\n",
       " '20191020084932399_134.562350_34.076358.jpg.jpg',\n",
       " '20191020084810893_134.561238_34.076080.jpg.jpg',\n",
       " '20191020084916572_134.563382_34.076840.jpg.jpg',\n",
       " '20191020084827689_134.563036_34.076265.jpg.jpg',\n",
       " '20191020084907259_134.564149_34.076999.jpg.jpg',\n",
       " '20191020084815549_134.561778_34.076172.jpg.jpg',\n",
       " '20191020084858478_134.564263_34.076864.jpg.jpg',\n",
       " '20191020084809967_134.561137_34.076064.jpg.jpg',\n",
       " '20191020084854753_134.564382_34.076652.jpg.jpg',\n",
       " '20191020084802015_134.560389_34.076078.jpg.jpg',\n",
       " '20191020084805742_134.560671_34.076017.jpg.jpg',\n",
       " '20191020084837930_134.564016_34.076352.jpg.jpg',\n",
       " '20191020085016720_134.560102_34.076130.jpg.jpg',\n",
       " '20191020084934259_134.562339_34.076331.jpg.jpg',\n",
       " '20191020084806675_134.560762_34.076013.jpg.jpg',\n",
       " '20191020084813689_134.561560_34.076134.jpg.jpg',\n",
       " '20191020084821139_134.562323_34.076267.jpg.jpg',\n",
       " '20191020084959031_134.562028_34.076190.jpg.jpg',\n",
       " '20191020084836995_134.563916_34.076325.jpg.jpg',\n",
       " '20191020084847285_134.564400_34.076432.jpg.jpg',\n",
       " '20191020085007413_134.561025_34.076003.jpg.jpg',\n",
       " '20191020085009272_134.560907_34.075985.jpg.jpg',\n",
       " '20191020084846343_134.564400_34.076432.jpg.jpg',\n",
       " '20191020084814618_134.561670_34.076152.jpg.jpg',\n",
       " '20191020084830480_134.563341_34.076260.jpg.jpg',\n",
       " '20191020084857550_134.564290_34.076809.jpg.jpg',\n",
       " '20191020084859409_134.564233_34.076913.jpg.jpg',\n",
       " '20191020084856617_134.564319_34.076753.jpg.jpg',\n",
       " '20191020084851962_134.564457_34.076527.jpg.jpg',\n",
       " '20191020084909118_134.564048_34.077005.jpg.jpg',\n",
       " '20191020084829554_134.563232_34.076256.jpg.jpg',\n",
       " '20191020085017660_134.560031_34.076157.jpg.jpg',\n",
       " '20191020084836068_134.563822_34.076303.jpg.jpg',\n",
       " '20191020085001825_134.561732_34.076128.jpg.jpg',\n",
       " '20191020084822068_134.562429_34.076277.jpg.jpg',\n",
       " '20191020084809037_134.561041_34.076051.jpg.jpg',\n",
       " '20191020084808099_134.560945_34.076031.jpg.jpg',\n",
       " '20191020084926812_134.562528_34.076641.jpg.jpg',\n",
       " '20191020084842585_134.564354_34.076427.jpg.jpg',\n",
       " '20191020084922153_134.562920_34.076745.jpg.jpg',\n",
       " '20191020084908189_134.564112_34.077012.jpg.jpg',\n",
       " '20191020084812760_134.561449_34.076115.jpg.jpg',\n",
       " '20191020084920297_134.563106_34.076780.jpg.jpg',\n",
       " '20191020084931465_134.562370_34.076403.jpg.jpg',\n",
       " '20191020084924949_134.562650_34.076689.jpg.jpg',\n",
       " '20191020085005548_134.561269_34.076041.jpg.jpg',\n",
       " '20191020084848237_134.564431_34.076438.jpg.jpg',\n",
       " '20191020084819279_134.562104_34.076233.jpg.jpg',\n",
       " '20191020084853825_134.564415_34.076605.jpg.jpg',\n",
       " '20191020085012066_134.560559_34.075983.jpg.jpg',\n",
       " '20191020084955308_134.562291_34.076262.jpg.jpg',\n",
       " '20191020084925878_134.562580_34.076671.jpg.jpg',\n",
       " '20191020085003686_134.561503_34.076086.jpg.jpg',\n",
       " '20191020084758289_134.560095_34.076198.jpg.jpg',\n",
       " '20191020084910055_134.563987_34.076992.jpg.jpg',\n",
       " '20191020084918432_134.563196_34.076803.jpg.jpg',\n",
       " '20191020084849169_134.564455_34.076455.jpg.jpg',\n",
       " '20191020084957173_134.562222_34.076225.jpg.jpg',\n",
       " '20191020084803878_134.560577_34.076029.jpg.jpg',\n",
       " '20191020084921225_134.563010_34.076764.jpg.jpg',\n",
       " '20191020084901270_134.564215_34.076949.jpg.jpg',\n",
       " '20191020084832348_134.563534_34.076254.jpg.jpg',\n",
       " '20191020084824895_134.562734_34.076271.jpg.jpg',\n",
       " '20191020084820207_134.562215_34.076251.jpg.jpg',\n",
       " '20191020085014859_134.560258_34.076061.jpg.jpg',\n",
       " '20191020084912845_134.563748_34.076930.jpg.jpg',\n",
       " '20191020084839795_134.564188_34.076386.jpg.jpg',\n",
       " '20191020084959962_134.561940_34.076169.jpg.jpg',\n",
       " '20191020084911912_134.563835_34.076952.jpg.jpg',\n",
       " '20191020084851033_134.564469_34.076503.jpg.jpg',\n",
       " '20191020084919360_134.563106_34.076780.jpg.jpg',\n",
       " '20191020085018587_134.559956_34.076188.jpg.jpg',\n",
       " '20191020084801084_134.560305_34.076114.jpg.jpg',\n",
       " '20191020084825826_134.562837_34.076271.jpg.jpg',\n",
       " '20191020084802944_134.560483_34.076050.jpg.jpg',\n",
       " '20191020084928669_134.562456_34.076559.jpg.jpg',\n",
       " '20191020084956237_134.562265_34.076241.jpg.jpg',\n",
       " '20191020084914706_134.563564_34.076880.jpg.jpg',\n",
       " '20191020084804809_134.560671_34.076017.jpg.jpg',\n",
       " '20191020085002756_134.561617_34.076107.jpg.jpg',\n",
       " '20191020084807604_134.560853_34.076020.jpg.jpg',\n",
       " '20191020085015790_134.560177_34.076095.jpg.jpg',\n",
       " '20191020084924017_134.562732_34.076704.jpg.jpg',\n",
       " '20191020085000897_134.561839_34.076148.jpg.jpg']"
      ]
     },
     "execution_count": 5,
     "metadata": {},
     "output_type": "execute_result"
    }
   ],
   "source": [
    "file_names"
   ]
  },
  {
   "cell_type": "code",
   "execution_count": 8,
   "metadata": {},
   "outputs": [],
   "source": [
    "\n",
    "\n",
    "image = skimage.io.imread(os.path.join(IMAGE_DIR, file_names[0]))\n",
    "\n",
    "\n",
    "# Run detection\n",
    "image=cv2.resize(image,(192,192))\n",
    "\n",
    "\n",
    "# Visualize results\n"
   ]
  },
  {
   "cell_type": "code",
   "execution_count": 9,
   "metadata": {},
   "outputs": [
    {
     "data": {
      "image/png": "[encoded data removed]",
      "text/plain": [
       "<Figure size 432x432 with 1 Axes>"
      ]
     },
     "metadata": {
      "needs_background": "light"
     },
     "output_type": "display_data"
    }
   ],
   "source": [
    "import cv2\n",
    "\n",
    "color_img = cv2.cvtColor(image, cv2.COLOR_BGR2RGB) \n",
    "\n",
    "import matplotlib.pyplot as plt\n",
    "fig, axes = plt.subplots(figsize=(6, 6))\n",
    "axes.imshow(color_img)\n",
    "axes.axis('off')\n",
    "plt.show()\n"
   ]
  },
  {
   "cell_type": "code",
   "execution_count": null,
   "metadata": {},
   "outputs": [],
   "source": [
    "#train.txtを読んだ方がいいかも"
   ]
  }
 ],
 "metadata": {
  "kernelspec": {
   "display_name": "Python 3",
   "language": "python",
   "name": "python3"
  },
  "language_info": {
   "codemirror_mode": {
    "name": "ipython",
    "version": 3
   },
   "file_extension": ".py",
   "mimetype": "text/x-python",
   "name": "python",
   "nbconvert_exporter": "python",
   "pygments_lexer": "ipython3",
   "version": "3.7.3"
  }
 },
 "nbformat": 4,
 "nbformat_minor": 2
}
